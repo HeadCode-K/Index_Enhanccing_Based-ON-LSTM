{
 "cells": [
  {
   "cell_type": "code",
   "execution_count": 1,
   "metadata": {},
   "outputs": [],
   "source": [
    "from __future__ import print_function\n",
    "import datetime\n",
    "import pandas as pd\n",
    "import numpy as np\n",
    "from sklearn.linear_model import LogisticRegression\n",
    "from sklearn import svm\n",
    "from sklearn.model_selection import GridSearchCV\n",
    "from sklearn import metrics\n",
    "import seaborn as sns\n",
    "import matplotlib.pyplot as plt\n",
    "from sklearn.ensemble import AdaBoostClassifier\n",
    "from sklearn.tree import DecisionTreeClassifier"
   ]
  },
  {
   "cell_type": "code",
   "execution_count": 2,
   "metadata": {},
   "outputs": [],
   "source": [
    "data = pd.read_csv('/Users/huyifan/Desktop/Index_Enhanccing_FYPPRO/uquant/data_month.csv',index_col= [0])\n",
    "data0 = pd.read_csv('/Users/huyifan/Desktop/Index_Enhanccing_FYPPRO/uquant/uquant13_180310.csv',index_col= [0])"
   ]
  },
  {
   "cell_type": "code",
   "execution_count": 3,
   "metadata": {},
   "outputs": [
    {
     "data": {
      "text/html": [
       "<div>\n",
       "<style scoped>\n",
       "    .dataframe tbody tr th:only-of-type {\n",
       "        vertical-align: middle;\n",
       "    }\n",
       "\n",
       "    .dataframe tbody tr th {\n",
       "        vertical-align: top;\n",
       "    }\n",
       "\n",
       "    .dataframe thead th {\n",
       "        text-align: right;\n",
       "    }\n",
       "</style>\n",
       "<table border=\"1\" class=\"dataframe\">\n",
       "  <thead>\n",
       "    <tr style=\"text-align: right;\">\n",
       "      <th></th>\n",
       "      <th>PB</th>\n",
       "      <th>PE</th>\n",
       "      <th>CurrentRatio</th>\n",
       "      <th>FixedAssetsTRate</th>\n",
       "      <th>ROE</th>\n",
       "      <th>NetAssetGrowRate</th>\n",
       "      <th>return</th>\n",
       "      <th>stock</th>\n",
       "      <th>tradeDate</th>\n",
       "      <th>y_m</th>\n",
       "    </tr>\n",
       "  </thead>\n",
       "  <tbody>\n",
       "    <tr>\n",
       "      <th>1</th>\n",
       "      <td>-0.918870</td>\n",
       "      <td>-0.218070</td>\n",
       "      <td>0.158975</td>\n",
       "      <td>1.541652</td>\n",
       "      <td>-0.672755</td>\n",
       "      <td>-0.442178</td>\n",
       "      <td>0.025093</td>\n",
       "      <td>000002.XSHE</td>\n",
       "      <td>2013-03-29</td>\n",
       "      <td>2013-03</td>\n",
       "    </tr>\n",
       "    <tr>\n",
       "      <th>2</th>\n",
       "      <td>-0.937999</td>\n",
       "      <td>-1.048394</td>\n",
       "      <td>0.405170</td>\n",
       "      <td>0.997325</td>\n",
       "      <td>-0.475655</td>\n",
       "      <td>-0.363043</td>\n",
       "      <td>0.012500</td>\n",
       "      <td>000063.XSHE</td>\n",
       "      <td>2013-03-29</td>\n",
       "      <td>2013-03</td>\n",
       "    </tr>\n",
       "    <tr>\n",
       "      <th>3</th>\n",
       "      <td>-0.094484</td>\n",
       "      <td>2.158191</td>\n",
       "      <td>-0.232119</td>\n",
       "      <td>1.680651</td>\n",
       "      <td>1.314321</td>\n",
       "      <td>0.086850</td>\n",
       "      <td>-0.059375</td>\n",
       "      <td>000066.XSHE</td>\n",
       "      <td>2013-03-29</td>\n",
       "      <td>2013-03</td>\n",
       "    </tr>\n",
       "    <tr>\n",
       "      <th>4</th>\n",
       "      <td>-0.357110</td>\n",
       "      <td>0.089963</td>\n",
       "      <td>-0.207825</td>\n",
       "      <td>-3.779634</td>\n",
       "      <td>-0.186212</td>\n",
       "      <td>0.003739</td>\n",
       "      <td>-0.008606</td>\n",
       "      <td>000069.XSHE</td>\n",
       "      <td>2013-03-29</td>\n",
       "      <td>2013-03</td>\n",
       "    </tr>\n",
       "    <tr>\n",
       "      <th>5</th>\n",
       "      <td>-0.082047</td>\n",
       "      <td>0.090798</td>\n",
       "      <td>0.904216</td>\n",
       "      <td>-0.900463</td>\n",
       "      <td>-1.213008</td>\n",
       "      <td>-0.870034</td>\n",
       "      <td>0.107835</td>\n",
       "      <td>000100.XSHE</td>\n",
       "      <td>2013-03-29</td>\n",
       "      <td>2013-03</td>\n",
       "    </tr>\n",
       "    <tr>\n",
       "      <th>...</th>\n",
       "      <td>...</td>\n",
       "      <td>...</td>\n",
       "      <td>...</td>\n",
       "      <td>...</td>\n",
       "      <td>...</td>\n",
       "      <td>...</td>\n",
       "      <td>...</td>\n",
       "      <td>...</td>\n",
       "      <td>...</td>\n",
       "      <td>...</td>\n",
       "    </tr>\n",
       "    <tr>\n",
       "      <th>13032</th>\n",
       "      <td>-0.608844</td>\n",
       "      <td>-0.401886</td>\n",
       "      <td>-0.737325</td>\n",
       "      <td>0.016087</td>\n",
       "      <td>0.151843</td>\n",
       "      <td>0.929601</td>\n",
       "      <td>-0.049767</td>\n",
       "      <td>603882.XSHG</td>\n",
       "      <td>2018-01-31</td>\n",
       "      <td>2018-01</td>\n",
       "    </tr>\n",
       "    <tr>\n",
       "      <th>13033</th>\n",
       "      <td>0.183552</td>\n",
       "      <td>-0.214237</td>\n",
       "      <td>-0.296799</td>\n",
       "      <td>0.588129</td>\n",
       "      <td>0.201061</td>\n",
       "      <td>-0.935397</td>\n",
       "      <td>0.106097</td>\n",
       "      <td>603899.XSHG</td>\n",
       "      <td>2018-01-31</td>\n",
       "      <td>2018-01</td>\n",
       "    </tr>\n",
       "    <tr>\n",
       "      <th>13034</th>\n",
       "      <td>-1.658261</td>\n",
       "      <td>-0.099693</td>\n",
       "      <td>-0.618760</td>\n",
       "      <td>1.743447</td>\n",
       "      <td>-1.002521</td>\n",
       "      <td>-0.891868</td>\n",
       "      <td>0.031140</td>\n",
       "      <td>603939.XSHG</td>\n",
       "      <td>2018-01-31</td>\n",
       "      <td>2018-01</td>\n",
       "    </tr>\n",
       "    <tr>\n",
       "      <th>13035</th>\n",
       "      <td>3.199559</td>\n",
       "      <td>0.900234</td>\n",
       "      <td>1.770937</td>\n",
       "      <td>1.705022</td>\n",
       "      <td>1.030332</td>\n",
       "      <td>-0.034802</td>\n",
       "      <td>0.000000</td>\n",
       "      <td>603986.XSHG</td>\n",
       "      <td>2018-01-31</td>\n",
       "      <td>2018-01</td>\n",
       "    </tr>\n",
       "    <tr>\n",
       "      <th>13036</th>\n",
       "      <td>-1.116177</td>\n",
       "      <td>0.213203</td>\n",
       "      <td>2.095658</td>\n",
       "      <td>-0.412773</td>\n",
       "      <td>-0.325978</td>\n",
       "      <td>3.138833</td>\n",
       "      <td>0.134921</td>\n",
       "      <td>603993.XSHG</td>\n",
       "      <td>2018-01-31</td>\n",
       "      <td>2018-01</td>\n",
       "    </tr>\n",
       "  </tbody>\n",
       "</table>\n",
       "<p>10930 rows × 10 columns</p>\n",
       "</div>"
      ],
      "text/plain": [
       "             PB        PE  CurrentRatio  FixedAssetsTRate       ROE  \\\n",
       "1     -0.918870 -0.218070      0.158975          1.541652 -0.672755   \n",
       "2     -0.937999 -1.048394      0.405170          0.997325 -0.475655   \n",
       "3     -0.094484  2.158191     -0.232119          1.680651  1.314321   \n",
       "4     -0.357110  0.089963     -0.207825         -3.779634 -0.186212   \n",
       "5     -0.082047  0.090798      0.904216         -0.900463 -1.213008   \n",
       "...         ...       ...           ...               ...       ...   \n",
       "13032 -0.608844 -0.401886     -0.737325          0.016087  0.151843   \n",
       "13033  0.183552 -0.214237     -0.296799          0.588129  0.201061   \n",
       "13034 -1.658261 -0.099693     -0.618760          1.743447 -1.002521   \n",
       "13035  3.199559  0.900234      1.770937          1.705022  1.030332   \n",
       "13036 -1.116177  0.213203      2.095658         -0.412773 -0.325978   \n",
       "\n",
       "       NetAssetGrowRate    return        stock   tradeDate      y_m  \n",
       "1             -0.442178  0.025093  000002.XSHE  2013-03-29  2013-03  \n",
       "2             -0.363043  0.012500  000063.XSHE  2013-03-29  2013-03  \n",
       "3              0.086850 -0.059375  000066.XSHE  2013-03-29  2013-03  \n",
       "4              0.003739 -0.008606  000069.XSHE  2013-03-29  2013-03  \n",
       "5             -0.870034  0.107835  000100.XSHE  2013-03-29  2013-03  \n",
       "...                 ...       ...          ...         ...      ...  \n",
       "13032          0.929601 -0.049767  603882.XSHG  2018-01-31  2018-01  \n",
       "13033         -0.935397  0.106097  603899.XSHG  2018-01-31  2018-01  \n",
       "13034         -0.891868  0.031140  603939.XSHG  2018-01-31  2018-01  \n",
       "13035         -0.034802  0.000000  603986.XSHG  2018-01-31  2018-01  \n",
       "13036          3.138833  0.134921  603993.XSHG  2018-01-31  2018-01  \n",
       "\n",
       "[10930 rows x 10 columns]"
      ]
     },
     "execution_count": 3,
     "metadata": {},
     "output_type": "execute_result"
    }
   ],
   "source": [
    "data0"
   ]
  },
  {
   "cell_type": "code",
   "execution_count": 4,
   "metadata": {},
   "outputs": [],
   "source": [
    "data_end = map(lambda x: x[0:4]+x[5:7]+x[8:10], data['calendarDate'].values.tolist())"
   ]
  },
  {
   "cell_type": "code",
   "execution_count": 5,
   "metadata": {},
   "outputs": [],
   "source": [
    "factor_names =['PB','PE' ,'CurrentRatio','FixedAssetsTRate','ROE','NetAssetGrowRate']"
   ]
  },
  {
   "cell_type": "code",
   "execution_count": 6,
   "metadata": {},
   "outputs": [
    {
     "data": {
      "text/plain": [
       "<matplotlib.axes._subplots.AxesSubplot at 0x7f94474bdb10>"
      ]
     },
     "execution_count": 6,
     "metadata": {},
     "output_type": "execute_result"
    },
    {
     "data": {
      "image/png": "[encoded data removed]",
      "text/plain": [
       "<Figure size 432x288 with 2 Axes>"
      ]
     },
     "metadata": {
      "needs_background": "light"
     },
     "output_type": "display_data"
    }
   ],
   "source": [
    "sns.heatmap(data0[factor_names].corr())"
   ]
  },
  {
   "cell_type": "code",
   "execution_count": 11,
   "metadata": {},
   "outputs": [
    {
     "data": {
      "text/html": [
       "<div>\n",
       "<style scoped>\n",
       "    .dataframe tbody tr th:only-of-type {\n",
       "        vertical-align: middle;\n",
       "    }\n",
       "\n",
       "    .dataframe tbody tr th {\n",
       "        vertical-align: top;\n",
       "    }\n",
       "\n",
       "    .dataframe thead th {\n",
       "        text-align: right;\n",
       "    }\n",
       "</style>\n",
       "<table border=\"1\" class=\"dataframe\">\n",
       "  <thead>\n",
       "    <tr style=\"text-align: right;\">\n",
       "      <th></th>\n",
       "      <th>PB</th>\n",
       "      <th>PE</th>\n",
       "      <th>CurrentRatio</th>\n",
       "      <th>FixedAssetsTRate</th>\n",
       "      <th>ROE</th>\n",
       "      <th>NetAssetGrowRate</th>\n",
       "      <th>return</th>\n",
       "      <th>stock</th>\n",
       "      <th>tradeDate</th>\n",
       "      <th>y_m</th>\n",
       "      <th>rets</th>\n",
       "      <th>rets</th>\n",
       "    </tr>\n",
       "  </thead>\n",
       "  <tbody>\n",
       "    <tr>\n",
       "      <th>1</th>\n",
       "      <td>-0.918870</td>\n",
       "      <td>-0.218070</td>\n",
       "      <td>0.158975</td>\n",
       "      <td>1.541652</td>\n",
       "      <td>-0.672755</td>\n",
       "      <td>-0.442178</td>\n",
       "      <td>0.025093</td>\n",
       "      <td>000002.XSHE</td>\n",
       "      <td>2013-03-29</td>\n",
       "      <td>2013-03</td>\n",
       "      <td>1</td>\n",
       "      <td>1</td>\n",
       "    </tr>\n",
       "    <tr>\n",
       "      <th>2</th>\n",
       "      <td>-0.937999</td>\n",
       "      <td>-1.048394</td>\n",
       "      <td>0.405170</td>\n",
       "      <td>0.997325</td>\n",
       "      <td>-0.475655</td>\n",
       "      <td>-0.363043</td>\n",
       "      <td>0.012500</td>\n",
       "      <td>000063.XSHE</td>\n",
       "      <td>2013-03-29</td>\n",
       "      <td>2013-03</td>\n",
       "      <td>1</td>\n",
       "      <td>1</td>\n",
       "    </tr>\n",
       "    <tr>\n",
       "      <th>3</th>\n",
       "      <td>-0.094484</td>\n",
       "      <td>2.158191</td>\n",
       "      <td>-0.232119</td>\n",
       "      <td>1.680651</td>\n",
       "      <td>1.314321</td>\n",
       "      <td>0.086850</td>\n",
       "      <td>-0.059375</td>\n",
       "      <td>000066.XSHE</td>\n",
       "      <td>2013-03-29</td>\n",
       "      <td>2013-03</td>\n",
       "      <td>0</td>\n",
       "      <td>0</td>\n",
       "    </tr>\n",
       "    <tr>\n",
       "      <th>4</th>\n",
       "      <td>-0.357110</td>\n",
       "      <td>0.089963</td>\n",
       "      <td>-0.207825</td>\n",
       "      <td>-3.779634</td>\n",
       "      <td>-0.186212</td>\n",
       "      <td>0.003739</td>\n",
       "      <td>-0.008606</td>\n",
       "      <td>000069.XSHE</td>\n",
       "      <td>2013-03-29</td>\n",
       "      <td>2013-03</td>\n",
       "      <td>1</td>\n",
       "      <td>1</td>\n",
       "    </tr>\n",
       "    <tr>\n",
       "      <th>5</th>\n",
       "      <td>-0.082047</td>\n",
       "      <td>0.090798</td>\n",
       "      <td>0.904216</td>\n",
       "      <td>-0.900463</td>\n",
       "      <td>-1.213008</td>\n",
       "      <td>-0.870034</td>\n",
       "      <td>0.107835</td>\n",
       "      <td>000100.XSHE</td>\n",
       "      <td>2013-03-29</td>\n",
       "      <td>2013-03</td>\n",
       "      <td>1</td>\n",
       "      <td>1</td>\n",
       "    </tr>\n",
       "    <tr>\n",
       "      <th>...</th>\n",
       "      <td>...</td>\n",
       "      <td>...</td>\n",
       "      <td>...</td>\n",
       "      <td>...</td>\n",
       "      <td>...</td>\n",
       "      <td>...</td>\n",
       "      <td>...</td>\n",
       "      <td>...</td>\n",
       "      <td>...</td>\n",
       "      <td>...</td>\n",
       "      <td>...</td>\n",
       "      <td>...</td>\n",
       "    </tr>\n",
       "    <tr>\n",
       "      <th>13032</th>\n",
       "      <td>-0.608844</td>\n",
       "      <td>-0.401886</td>\n",
       "      <td>-0.737325</td>\n",
       "      <td>0.016087</td>\n",
       "      <td>0.151843</td>\n",
       "      <td>0.929601</td>\n",
       "      <td>-0.049767</td>\n",
       "      <td>603882.XSHG</td>\n",
       "      <td>2018-01-31</td>\n",
       "      <td>2018-01</td>\n",
       "      <td>NaN</td>\n",
       "      <td>NaN</td>\n",
       "    </tr>\n",
       "    <tr>\n",
       "      <th>13033</th>\n",
       "      <td>0.183552</td>\n",
       "      <td>-0.214237</td>\n",
       "      <td>-0.296799</td>\n",
       "      <td>0.588129</td>\n",
       "      <td>0.201061</td>\n",
       "      <td>-0.935397</td>\n",
       "      <td>0.106097</td>\n",
       "      <td>603899.XSHG</td>\n",
       "      <td>2018-01-31</td>\n",
       "      <td>2018-01</td>\n",
       "      <td>NaN</td>\n",
       "      <td>NaN</td>\n",
       "    </tr>\n",
       "    <tr>\n",
       "      <th>13034</th>\n",
       "      <td>-1.658261</td>\n",
       "      <td>-0.099693</td>\n",
       "      <td>-0.618760</td>\n",
       "      <td>1.743447</td>\n",
       "      <td>-1.002521</td>\n",
       "      <td>-0.891868</td>\n",
       "      <td>0.031140</td>\n",
       "      <td>603939.XSHG</td>\n",
       "      <td>2018-01-31</td>\n",
       "      <td>2018-01</td>\n",
       "      <td>NaN</td>\n",
       "      <td>NaN</td>\n",
       "    </tr>\n",
       "    <tr>\n",
       "      <th>13035</th>\n",
       "      <td>3.199559</td>\n",
       "      <td>0.900234</td>\n",
       "      <td>1.770937</td>\n",
       "      <td>1.705022</td>\n",
       "      <td>1.030332</td>\n",
       "      <td>-0.034802</td>\n",
       "      <td>0.000000</td>\n",
       "      <td>603986.XSHG</td>\n",
       "      <td>2018-01-31</td>\n",
       "      <td>2018-01</td>\n",
       "      <td>NaN</td>\n",
       "      <td>NaN</td>\n",
       "    </tr>\n",
       "    <tr>\n",
       "      <th>13036</th>\n",
       "      <td>-1.116177</td>\n",
       "      <td>0.213203</td>\n",
       "      <td>2.095658</td>\n",
       "      <td>-0.412773</td>\n",
       "      <td>-0.325978</td>\n",
       "      <td>3.138833</td>\n",
       "      <td>0.134921</td>\n",
       "      <td>603993.XSHG</td>\n",
       "      <td>2018-01-31</td>\n",
       "      <td>2018-01</td>\n",
       "      <td>NaN</td>\n",
       "      <td>NaN</td>\n",
       "    </tr>\n",
       "  </tbody>\n",
       "</table>\n",
       "<p>10930 rows × 12 columns</p>\n",
       "</div>"
      ],
      "text/plain": [
       "             PB        PE  CurrentRatio  FixedAssetsTRate       ROE  \\\n",
       "1     -0.918870 -0.218070      0.158975          1.541652 -0.672755   \n",
       "2     -0.937999 -1.048394      0.405170          0.997325 -0.475655   \n",
       "3     -0.094484  2.158191     -0.232119          1.680651  1.314321   \n",
       "4     -0.357110  0.089963     -0.207825         -3.779634 -0.186212   \n",
       "5     -0.082047  0.090798      0.904216         -0.900463 -1.213008   \n",
       "...         ...       ...           ...               ...       ...   \n",
       "13032 -0.608844 -0.401886     -0.737325          0.016087  0.151843   \n",
       "13033  0.183552 -0.214237     -0.296799          0.588129  0.201061   \n",
       "13034 -1.658261 -0.099693     -0.618760          1.743447 -1.002521   \n",
       "13035  3.199559  0.900234      1.770937          1.705022  1.030332   \n",
       "13036 -1.116177  0.213203      2.095658         -0.412773 -0.325978   \n",
       "\n",
       "       NetAssetGrowRate    return        stock   tradeDate      y_m rets rets  \n",
       "1             -0.442178  0.025093  000002.XSHE  2013-03-29  2013-03    1    1  \n",
       "2             -0.363043  0.012500  000063.XSHE  2013-03-29  2013-03    1    1  \n",
       "3              0.086850 -0.059375  000066.XSHE  2013-03-29  2013-03    0    0  \n",
       "4              0.003739 -0.008606  000069.XSHE  2013-03-29  2013-03    1    1  \n",
       "5             -0.870034  0.107835  000100.XSHE  2013-03-29  2013-03    1    1  \n",
       "...                 ...       ...          ...         ...      ...  ...  ...  \n",
       "13032          0.929601 -0.049767  603882.XSHG  2018-01-31  2018-01  NaN  NaN  \n",
       "13033         -0.935397  0.106097  603899.XSHG  2018-01-31  2018-01  NaN  NaN  \n",
       "13034         -0.891868  0.031140  603939.XSHG  2018-01-31  2018-01  NaN  NaN  \n",
       "13035         -0.034802  0.000000  603986.XSHG  2018-01-31  2018-01  NaN  NaN  \n",
       "13036          3.138833  0.134921  603993.XSHG  2018-01-31  2018-01  NaN  NaN  \n",
       "\n",
       "[10930 rows x 12 columns]"
      ]
     },
     "execution_count": 11,
     "metadata": {},
     "output_type": "execute_result"
    }
   ],
   "source": [
    "#收益率分类 每个月末交易日，前50%为1 ，后50%为0\n",
    "rets=pd.DataFrame()\n",
    "for d in data['calendarDate'].values[:]:\n",
    "    \n",
    "    \n",
    "    \n",
    "    lables = data0[data0['tradeDate']==d]['return']>=data0[data0['tradeDate']==d]['return'].mean()  #为分类处理数据，判断收盘价是否大于今日收盘价\n",
    "    lables = lables.replace({True:'1',False:'0'})\n",
    "    \n",
    "    \n",
    "    rets=pd.concat([rets,lables])\n",
    "rets.columns=['rets']\n",
    "data0=pd.concat([data0,rets],axis=1)    \n",
    "df=data0\n"
   ]
  },
  {
   "cell_type": "code",
   "execution_count": 12,
   "metadata": {},
   "outputs": [],
   "source": [
    "df.to_csv('label.csv')"
   ]
  },
  {
   "cell_type": "code",
   "execution_count": 8,
   "metadata": {},
   "outputs": [
    {
     "data": {
      "text/html": [
       "<div>\n",
       "<style scoped>\n",
       "    .dataframe tbody tr th:only-of-type {\n",
       "        vertical-align: middle;\n",
       "    }\n",
       "\n",
       "    .dataframe tbody tr th {\n",
       "        vertical-align: top;\n",
       "    }\n",
       "\n",
       "    .dataframe thead th {\n",
       "        text-align: right;\n",
       "    }\n",
       "</style>\n",
       "<table border=\"1\" class=\"dataframe\">\n",
       "  <thead>\n",
       "    <tr style=\"text-align: right;\">\n",
       "      <th></th>\n",
       "      <th>PB</th>\n",
       "      <th>PE</th>\n",
       "      <th>CurrentRatio</th>\n",
       "      <th>FixedAssetsTRate</th>\n",
       "      <th>ROE</th>\n",
       "      <th>NetAssetGrowRate</th>\n",
       "      <th>return</th>\n",
       "      <th>stock</th>\n",
       "      <th>tradeDate</th>\n",
       "      <th>y_m</th>\n",
       "      <th>rets</th>\n",
       "    </tr>\n",
       "  </thead>\n",
       "  <tbody>\n",
       "    <tr>\n",
       "      <th>1</th>\n",
       "      <td>-0.918870</td>\n",
       "      <td>-0.218070</td>\n",
       "      <td>0.158975</td>\n",
       "      <td>1.541652</td>\n",
       "      <td>-0.672755</td>\n",
       "      <td>-0.442178</td>\n",
       "      <td>0.025093</td>\n",
       "      <td>000002.XSHE</td>\n",
       "      <td>2013-03-29</td>\n",
       "      <td>2013-03</td>\n",
       "      <td>1</td>\n",
       "    </tr>\n",
       "    <tr>\n",
       "      <th>2</th>\n",
       "      <td>-0.937999</td>\n",
       "      <td>-1.048394</td>\n",
       "      <td>0.405170</td>\n",
       "      <td>0.997325</td>\n",
       "      <td>-0.475655</td>\n",
       "      <td>-0.363043</td>\n",
       "      <td>0.012500</td>\n",
       "      <td>000063.XSHE</td>\n",
       "      <td>2013-03-29</td>\n",
       "      <td>2013-03</td>\n",
       "      <td>1</td>\n",
       "    </tr>\n",
       "    <tr>\n",
       "      <th>3</th>\n",
       "      <td>-0.094484</td>\n",
       "      <td>2.158191</td>\n",
       "      <td>-0.232119</td>\n",
       "      <td>1.680651</td>\n",
       "      <td>1.314321</td>\n",
       "      <td>0.086850</td>\n",
       "      <td>-0.059375</td>\n",
       "      <td>000066.XSHE</td>\n",
       "      <td>2013-03-29</td>\n",
       "      <td>2013-03</td>\n",
       "      <td>0</td>\n",
       "    </tr>\n",
       "    <tr>\n",
       "      <th>4</th>\n",
       "      <td>-0.357110</td>\n",
       "      <td>0.089963</td>\n",
       "      <td>-0.207825</td>\n",
       "      <td>-3.779634</td>\n",
       "      <td>-0.186212</td>\n",
       "      <td>0.003739</td>\n",
       "      <td>-0.008606</td>\n",
       "      <td>000069.XSHE</td>\n",
       "      <td>2013-03-29</td>\n",
       "      <td>2013-03</td>\n",
       "      <td>1</td>\n",
       "    </tr>\n",
       "    <tr>\n",
       "      <th>5</th>\n",
       "      <td>-0.082047</td>\n",
       "      <td>0.090798</td>\n",
       "      <td>0.904216</td>\n",
       "      <td>-0.900463</td>\n",
       "      <td>-1.213008</td>\n",
       "      <td>-0.870034</td>\n",
       "      <td>0.107835</td>\n",
       "      <td>000100.XSHE</td>\n",
       "      <td>2013-03-29</td>\n",
       "      <td>2013-03</td>\n",
       "      <td>1</td>\n",
       "    </tr>\n",
       "    <tr>\n",
       "      <th>...</th>\n",
       "      <td>...</td>\n",
       "      <td>...</td>\n",
       "      <td>...</td>\n",
       "      <td>...</td>\n",
       "      <td>...</td>\n",
       "      <td>...</td>\n",
       "      <td>...</td>\n",
       "      <td>...</td>\n",
       "      <td>...</td>\n",
       "      <td>...</td>\n",
       "      <td>...</td>\n",
       "    </tr>\n",
       "    <tr>\n",
       "      <th>13032</th>\n",
       "      <td>-0.608844</td>\n",
       "      <td>-0.401886</td>\n",
       "      <td>-0.737325</td>\n",
       "      <td>0.016087</td>\n",
       "      <td>0.151843</td>\n",
       "      <td>0.929601</td>\n",
       "      <td>-0.049767</td>\n",
       "      <td>603882.XSHG</td>\n",
       "      <td>2018-01-31</td>\n",
       "      <td>2018-01</td>\n",
       "      <td>NaN</td>\n",
       "    </tr>\n",
       "    <tr>\n",
       "      <th>13033</th>\n",
       "      <td>0.183552</td>\n",
       "      <td>-0.214237</td>\n",
       "      <td>-0.296799</td>\n",
       "      <td>0.588129</td>\n",
       "      <td>0.201061</td>\n",
       "      <td>-0.935397</td>\n",
       "      <td>0.106097</td>\n",
       "      <td>603899.XSHG</td>\n",
       "      <td>2018-01-31</td>\n",
       "      <td>2018-01</td>\n",
       "      <td>NaN</td>\n",
       "    </tr>\n",
       "    <tr>\n",
       "      <th>13034</th>\n",
       "      <td>-1.658261</td>\n",
       "      <td>-0.099693</td>\n",
       "      <td>-0.618760</td>\n",
       "      <td>1.743447</td>\n",
       "      <td>-1.002521</td>\n",
       "      <td>-0.891868</td>\n",
       "      <td>0.031140</td>\n",
       "      <td>603939.XSHG</td>\n",
       "      <td>2018-01-31</td>\n",
       "      <td>2018-01</td>\n",
       "      <td>NaN</td>\n",
       "    </tr>\n",
       "    <tr>\n",
       "      <th>13035</th>\n",
       "      <td>3.199559</td>\n",
       "      <td>0.900234</td>\n",
       "      <td>1.770937</td>\n",
       "      <td>1.705022</td>\n",
       "      <td>1.030332</td>\n",
       "      <td>-0.034802</td>\n",
       "      <td>0.000000</td>\n",
       "      <td>603986.XSHG</td>\n",
       "      <td>2018-01-31</td>\n",
       "      <td>2018-01</td>\n",
       "      <td>NaN</td>\n",
       "    </tr>\n",
       "    <tr>\n",
       "      <th>13036</th>\n",
       "      <td>-1.116177</td>\n",
       "      <td>0.213203</td>\n",
       "      <td>2.095658</td>\n",
       "      <td>-0.412773</td>\n",
       "      <td>-0.325978</td>\n",
       "      <td>3.138833</td>\n",
       "      <td>0.134921</td>\n",
       "      <td>603993.XSHG</td>\n",
       "      <td>2018-01-31</td>\n",
       "      <td>2018-01</td>\n",
       "      <td>NaN</td>\n",
       "    </tr>\n",
       "  </tbody>\n",
       "</table>\n",
       "<p>10930 rows × 11 columns</p>\n",
       "</div>"
      ],
      "text/plain": [
       "             PB        PE  CurrentRatio  FixedAssetsTRate       ROE  \\\n",
       "1     -0.918870 -0.218070      0.158975          1.541652 -0.672755   \n",
       "2     -0.937999 -1.048394      0.405170          0.997325 -0.475655   \n",
       "3     -0.094484  2.158191     -0.232119          1.680651  1.314321   \n",
       "4     -0.357110  0.089963     -0.207825         -3.779634 -0.186212   \n",
       "5     -0.082047  0.090798      0.904216         -0.900463 -1.213008   \n",
       "...         ...       ...           ...               ...       ...   \n",
       "13032 -0.608844 -0.401886     -0.737325          0.016087  0.151843   \n",
       "13033  0.183552 -0.214237     -0.296799          0.588129  0.201061   \n",
       "13034 -1.658261 -0.099693     -0.618760          1.743447 -1.002521   \n",
       "13035  3.199559  0.900234      1.770937          1.705022  1.030332   \n",
       "13036 -1.116177  0.213203      2.095658         -0.412773 -0.325978   \n",
       "\n",
       "       NetAssetGrowRate    return        stock   tradeDate      y_m rets  \n",
       "1             -0.442178  0.025093  000002.XSHE  2013-03-29  2013-03    1  \n",
       "2             -0.363043  0.012500  000063.XSHE  2013-03-29  2013-03    1  \n",
       "3              0.086850 -0.059375  000066.XSHE  2013-03-29  2013-03    0  \n",
       "4              0.003739 -0.008606  000069.XSHE  2013-03-29  2013-03    1  \n",
       "5             -0.870034  0.107835  000100.XSHE  2013-03-29  2013-03    1  \n",
       "...                 ...       ...          ...         ...      ...  ...  \n",
       "13032          0.929601 -0.049767  603882.XSHG  2018-01-31  2018-01  NaN  \n",
       "13033         -0.935397  0.106097  603899.XSHG  2018-01-31  2018-01  NaN  \n",
       "13034         -0.891868  0.031140  603939.XSHG  2018-01-31  2018-01  NaN  \n",
       "13035         -0.034802  0.000000  603986.XSHG  2018-01-31  2018-01  NaN  \n",
       "13036          3.138833  0.134921  603993.XSHG  2018-01-31  2018-01  NaN  \n",
       "\n",
       "[10930 rows x 11 columns]"
      ]
     },
     "execution_count": 8,
     "metadata": {},
     "output_type": "execute_result"
    }
   ],
   "source": [
    "data0"
   ]
  },
  {
   "cell_type": "code",
   "execution_count": 9,
   "metadata": {},
   "outputs": [],
   "source": [
    "# 训练模型\n",
    "\n",
    "def get_train_val_test_data(date):\n",
    "        #计算前12个月，采用365天\n",
    "        d_12=(datetime.datetime.strptime(date, \"%Y-%m\") - datetime.timedelta(days=365)).strftime('%Y-%m')\n",
    "        train_df=df[(df['y_m']>=d_12) & (df['y_m']<date)]\n",
    "        #train_val_df = train_val_df.sample(frac=1).reset_index(drop=True)   \n",
    "        #拆分训练集、验证集                                 \n",
    "        test_df =df[df['y_m']==date]   \n",
    "        return train_df,test_df\n",
    "\n",
    "def format_feature_label(origin_df, is_filter=True):\n",
    "    \n",
    "    #if is_filter:\n",
    "        #origin_df = origin_df[origin_df['rets']!=0]\n",
    "    df_test= origin_df                \n",
    "    feature = origin_df[factor_names]\n",
    "    label = origin_df['rets']\n",
    "\n",
    "    return feature, label,df_test\n",
    "\n"
   ]
  },
  {
   "cell_type": "code",
   "execution_count": 10,
   "metadata": {},
   "outputs": [
    {
     "name": "stdout",
     "output_type": "stream",
     "text": [
      "training model for 2014-03\n",
      "SVC(C=9, break_ties=False, cache_size=200, class_weight=None, coef0=0.0,\n",
      "    decision_function_shape='ovr', degree=3, gamma=0.09, kernel='rbf',\n",
      "    max_iter=-1, probability=True, random_state=None, shrinking=True, tol=0.001,\n",
      "    verbose=False)\n"
     ]
    },
    {
     "name": "stderr",
     "output_type": "stream",
     "text": [
      "/opt/anaconda3/lib/python3.7/site-packages/ipykernel_launcher.py:39: SettingWithCopyWarning: \n",
      "A value is trying to be set on a copy of a slice from a DataFrame.\n",
      "Try using .loc[row_indexer,col_indexer] = value instead\n",
      "\n",
      "See the caveats in the documentation: https://pandas.pydata.org/pandas-docs/stable/user_guide/indexing.html#returning-a-view-versus-a-copy\n"
     ]
    },
    {
     "name": "stdout",
     "output_type": "stream",
     "text": [
      "training model for 2014-04\n",
      "SVC(C=9, break_ties=False, cache_size=200, class_weight=None, coef0=0.0,\n",
      "    decision_function_shape='ovr', degree=3, gamma=0.09, kernel='rbf',\n",
      "    max_iter=-1, probability=True, random_state=None, shrinking=True, tol=0.001,\n",
      "    verbose=False)\n"
     ]
    },
    {
     "name": "stderr",
     "output_type": "stream",
     "text": [
      "/opt/anaconda3/lib/python3.7/site-packages/ipykernel_launcher.py:39: SettingWithCopyWarning: \n",
      "A value is trying to be set on a copy of a slice from a DataFrame.\n",
      "Try using .loc[row_indexer,col_indexer] = value instead\n",
      "\n",
      "See the caveats in the documentation: https://pandas.pydata.org/pandas-docs/stable/user_guide/indexing.html#returning-a-view-versus-a-copy\n"
     ]
    },
    {
     "name": "stdout",
     "output_type": "stream",
     "text": [
      "training model for 2014-05\n",
      "SVC(C=9, break_ties=False, cache_size=200, class_weight=None, coef0=0.0,\n",
      "    decision_function_shape='ovr', degree=3, gamma=0.09, kernel='rbf',\n",
      "    max_iter=-1, probability=True, random_state=None, shrinking=True, tol=0.001,\n",
      "    verbose=False)\n"
     ]
    },
    {
     "name": "stderr",
     "output_type": "stream",
     "text": [
      "/opt/anaconda3/lib/python3.7/site-packages/ipykernel_launcher.py:39: SettingWithCopyWarning: \n",
      "A value is trying to be set on a copy of a slice from a DataFrame.\n",
      "Try using .loc[row_indexer,col_indexer] = value instead\n",
      "\n",
      "See the caveats in the documentation: https://pandas.pydata.org/pandas-docs/stable/user_guide/indexing.html#returning-a-view-versus-a-copy\n"
     ]
    },
    {
     "name": "stdout",
     "output_type": "stream",
     "text": [
      "training model for 2014-06\n",
      "SVC(C=9, break_ties=False, cache_size=200, class_weight=None, coef0=0.0,\n",
      "    decision_function_shape='ovr', degree=3, gamma=0.09, kernel='rbf',\n",
      "    max_iter=-1, probability=True, random_state=None, shrinking=True, tol=0.001,\n",
      "    verbose=False)\n"
     ]
    },
    {
     "name": "stderr",
     "output_type": "stream",
     "text": [
      "/opt/anaconda3/lib/python3.7/site-packages/ipykernel_launcher.py:39: SettingWithCopyWarning: \n",
      "A value is trying to be set on a copy of a slice from a DataFrame.\n",
      "Try using .loc[row_indexer,col_indexer] = value instead\n",
      "\n",
      "See the caveats in the documentation: https://pandas.pydata.org/pandas-docs/stable/user_guide/indexing.html#returning-a-view-versus-a-copy\n"
     ]
    },
    {
     "name": "stdout",
     "output_type": "stream",
     "text": [
      "training model for 2014-07\n",
      "SVC(C=9, break_ties=False, cache_size=200, class_weight=None, coef0=0.0,\n",
      "    decision_function_shape='ovr', degree=3, gamma=0.09, kernel='rbf',\n",
      "    max_iter=-1, probability=True, random_state=None, shrinking=True, tol=0.001,\n",
      "    verbose=False)\n"
     ]
    },
    {
     "name": "stderr",
     "output_type": "stream",
     "text": [
      "/opt/anaconda3/lib/python3.7/site-packages/ipykernel_launcher.py:39: SettingWithCopyWarning: \n",
      "A value is trying to be set on a copy of a slice from a DataFrame.\n",
      "Try using .loc[row_indexer,col_indexer] = value instead\n",
      "\n",
      "See the caveats in the documentation: https://pandas.pydata.org/pandas-docs/stable/user_guide/indexing.html#returning-a-view-versus-a-copy\n"
     ]
    },
    {
     "name": "stdout",
     "output_type": "stream",
     "text": [
      "training model for 2014-08\n",
      "SVC(C=9, break_ties=False, cache_size=200, class_weight=None, coef0=0.0,\n",
      "    decision_function_shape='ovr', degree=3, gamma=0.09, kernel='rbf',\n",
      "    max_iter=-1, probability=True, random_state=None, shrinking=True, tol=0.001,\n",
      "    verbose=False)\n"
     ]
    },
    {
     "name": "stderr",
     "output_type": "stream",
     "text": [
      "/opt/anaconda3/lib/python3.7/site-packages/ipykernel_launcher.py:39: SettingWithCopyWarning: \n",
      "A value is trying to be set on a copy of a slice from a DataFrame.\n",
      "Try using .loc[row_indexer,col_indexer] = value instead\n",
      "\n",
      "See the caveats in the documentation: https://pandas.pydata.org/pandas-docs/stable/user_guide/indexing.html#returning-a-view-versus-a-copy\n"
     ]
    },
    {
     "name": "stdout",
     "output_type": "stream",
     "text": [
      "training model for 2014-09\n",
      "SVC(C=9, break_ties=False, cache_size=200, class_weight=None, coef0=0.0,\n",
      "    decision_function_shape='ovr', degree=3, gamma=0.09, kernel='rbf',\n",
      "    max_iter=-1, probability=True, random_state=None, shrinking=True, tol=0.001,\n",
      "    verbose=False)\n"
     ]
    },
    {
     "name": "stderr",
     "output_type": "stream",
     "text": [
      "/opt/anaconda3/lib/python3.7/site-packages/ipykernel_launcher.py:39: SettingWithCopyWarning: \n",
      "A value is trying to be set on a copy of a slice from a DataFrame.\n",
      "Try using .loc[row_indexer,col_indexer] = value instead\n",
      "\n",
      "See the caveats in the documentation: https://pandas.pydata.org/pandas-docs/stable/user_guide/indexing.html#returning-a-view-versus-a-copy\n"
     ]
    },
    {
     "name": "stdout",
     "output_type": "stream",
     "text": [
      "training model for 2014-10\n",
      "SVC(C=9, break_ties=False, cache_size=200, class_weight=None, coef0=0.0,\n",
      "    decision_function_shape='ovr', degree=3, gamma=0.09, kernel='rbf',\n",
      "    max_iter=-1, probability=True, random_state=None, shrinking=True, tol=0.001,\n",
      "    verbose=False)\n"
     ]
    },
    {
     "name": "stderr",
     "output_type": "stream",
     "text": [
      "/opt/anaconda3/lib/python3.7/site-packages/ipykernel_launcher.py:39: SettingWithCopyWarning: \n",
      "A value is trying to be set on a copy of a slice from a DataFrame.\n",
      "Try using .loc[row_indexer,col_indexer] = value instead\n",
      "\n",
      "See the caveats in the documentation: https://pandas.pydata.org/pandas-docs/stable/user_guide/indexing.html#returning-a-view-versus-a-copy\n"
     ]
    },
    {
     "name": "stdout",
     "output_type": "stream",
     "text": [
      "training model for 2014-11\n",
      "SVC(C=9, break_ties=False, cache_size=200, class_weight=None, coef0=0.0,\n",
      "    decision_function_shape='ovr', degree=3, gamma=0.09, kernel='rbf',\n",
      "    max_iter=-1, probability=True, random_state=None, shrinking=True, tol=0.001,\n",
      "    verbose=False)\n"
     ]
    },
    {
     "name": "stderr",
     "output_type": "stream",
     "text": [
      "/opt/anaconda3/lib/python3.7/site-packages/ipykernel_launcher.py:39: SettingWithCopyWarning: \n",
      "A value is trying to be set on a copy of a slice from a DataFrame.\n",
      "Try using .loc[row_indexer,col_indexer] = value instead\n",
      "\n",
      "See the caveats in the documentation: https://pandas.pydata.org/pandas-docs/stable/user_guide/indexing.html#returning-a-view-versus-a-copy\n"
     ]
    },
    {
     "name": "stdout",
     "output_type": "stream",
     "text": [
      "training model for 2014-12\n",
      "SVC(C=9, break_ties=False, cache_size=200, class_weight=None, coef0=0.0,\n",
      "    decision_function_shape='ovr', degree=3, gamma=0.09, kernel='rbf',\n",
      "    max_iter=-1, probability=True, random_state=None, shrinking=True, tol=0.001,\n",
      "    verbose=False)\n"
     ]
    },
    {
     "name": "stderr",
     "output_type": "stream",
     "text": [
      "/opt/anaconda3/lib/python3.7/site-packages/ipykernel_launcher.py:39: SettingWithCopyWarning: \n",
      "A value is trying to be set on a copy of a slice from a DataFrame.\n",
      "Try using .loc[row_indexer,col_indexer] = value instead\n",
      "\n",
      "See the caveats in the documentation: https://pandas.pydata.org/pandas-docs/stable/user_guide/indexing.html#returning-a-view-versus-a-copy\n"
     ]
    },
    {
     "name": "stdout",
     "output_type": "stream",
     "text": [
      "training model for 2015-01\n",
      "SVC(C=9, break_ties=False, cache_size=200, class_weight=None, coef0=0.0,\n",
      "    decision_function_shape='ovr', degree=3, gamma=0.09, kernel='rbf',\n",
      "    max_iter=-1, probability=True, random_state=None, shrinking=True, tol=0.001,\n",
      "    verbose=False)\n"
     ]
    },
    {
     "name": "stderr",
     "output_type": "stream",
     "text": [
      "/opt/anaconda3/lib/python3.7/site-packages/ipykernel_launcher.py:39: SettingWithCopyWarning: \n",
      "A value is trying to be set on a copy of a slice from a DataFrame.\n",
      "Try using .loc[row_indexer,col_indexer] = value instead\n",
      "\n",
      "See the caveats in the documentation: https://pandas.pydata.org/pandas-docs/stable/user_guide/indexing.html#returning-a-view-versus-a-copy\n"
     ]
    },
    {
     "name": "stdout",
     "output_type": "stream",
     "text": [
      "training model for 2015-02\n",
      "SVC(C=9, break_ties=False, cache_size=200, class_weight=None, coef0=0.0,\n",
      "    decision_function_shape='ovr', degree=3, gamma=0.09, kernel='rbf',\n",
      "    max_iter=-1, probability=True, random_state=None, shrinking=True, tol=0.001,\n",
      "    verbose=False)\n"
     ]
    },
    {
     "name": "stderr",
     "output_type": "stream",
     "text": [
      "/opt/anaconda3/lib/python3.7/site-packages/ipykernel_launcher.py:39: SettingWithCopyWarning: \n",
      "A value is trying to be set on a copy of a slice from a DataFrame.\n",
      "Try using .loc[row_indexer,col_indexer] = value instead\n",
      "\n",
      "See the caveats in the documentation: https://pandas.pydata.org/pandas-docs/stable/user_guide/indexing.html#returning-a-view-versus-a-copy\n"
     ]
    },
    {
     "name": "stdout",
     "output_type": "stream",
     "text": [
      "training model for 2015-03\n",
      "SVC(C=9, break_ties=False, cache_size=200, class_weight=None, coef0=0.0,\n",
      "    decision_function_shape='ovr', degree=3, gamma=0.09, kernel='rbf',\n",
      "    max_iter=-1, probability=True, random_state=None, shrinking=True, tol=0.001,\n",
      "    verbose=False)\n"
     ]
    },
    {
     "name": "stderr",
     "output_type": "stream",
     "text": [
      "/opt/anaconda3/lib/python3.7/site-packages/ipykernel_launcher.py:39: SettingWithCopyWarning: \n",
      "A value is trying to be set on a copy of a slice from a DataFrame.\n",
      "Try using .loc[row_indexer,col_indexer] = value instead\n",
      "\n",
      "See the caveats in the documentation: https://pandas.pydata.org/pandas-docs/stable/user_guide/indexing.html#returning-a-view-versus-a-copy\n"
     ]
    },
    {
     "name": "stdout",
     "output_type": "stream",
     "text": [
      "training model for 2015-04\n",
      "SVC(C=9, break_ties=False, cache_size=200, class_weight=None, coef0=0.0,\n",
      "    decision_function_shape='ovr', degree=3, gamma=0.09, kernel='rbf',\n",
      "    max_iter=-1, probability=True, random_state=None, shrinking=True, tol=0.001,\n",
      "    verbose=False)\n"
     ]
    },
    {
     "name": "stderr",
     "output_type": "stream",
     "text": [
      "/opt/anaconda3/lib/python3.7/site-packages/ipykernel_launcher.py:39: SettingWithCopyWarning: \n",
      "A value is trying to be set on a copy of a slice from a DataFrame.\n",
      "Try using .loc[row_indexer,col_indexer] = value instead\n",
      "\n",
      "See the caveats in the documentation: https://pandas.pydata.org/pandas-docs/stable/user_guide/indexing.html#returning-a-view-versus-a-copy\n"
     ]
    },
    {
     "name": "stdout",
     "output_type": "stream",
     "text": [
      "training model for 2015-05\n",
      "SVC(C=9, break_ties=False, cache_size=200, class_weight=None, coef0=0.0,\n",
      "    decision_function_shape='ovr', degree=3, gamma=0.09, kernel='rbf',\n",
      "    max_iter=-1, probability=True, random_state=None, shrinking=True, tol=0.001,\n",
      "    verbose=False)\n"
     ]
    },
    {
     "name": "stderr",
     "output_type": "stream",
     "text": [
      "/opt/anaconda3/lib/python3.7/site-packages/ipykernel_launcher.py:39: SettingWithCopyWarning: \n",
      "A value is trying to be set on a copy of a slice from a DataFrame.\n",
      "Try using .loc[row_indexer,col_indexer] = value instead\n",
      "\n",
      "See the caveats in the documentation: https://pandas.pydata.org/pandas-docs/stable/user_guide/indexing.html#returning-a-view-versus-a-copy\n"
     ]
    },
    {
     "name": "stdout",
     "output_type": "stream",
     "text": [
      "training model for 2015-06\n",
      "SVC(C=9, break_ties=False, cache_size=200, class_weight=None, coef0=0.0,\n",
      "    decision_function_shape='ovr', degree=3, gamma=0.09, kernel='rbf',\n",
      "    max_iter=-1, probability=True, random_state=None, shrinking=True, tol=0.001,\n",
      "    verbose=False)\n"
     ]
    },
    {
     "name": "stderr",
     "output_type": "stream",
     "text": [
      "/opt/anaconda3/lib/python3.7/site-packages/ipykernel_launcher.py:39: SettingWithCopyWarning: \n",
      "A value is trying to be set on a copy of a slice from a DataFrame.\n",
      "Try using .loc[row_indexer,col_indexer] = value instead\n",
      "\n",
      "See the caveats in the documentation: https://pandas.pydata.org/pandas-docs/stable/user_guide/indexing.html#returning-a-view-versus-a-copy\n"
     ]
    },
    {
     "name": "stdout",
     "output_type": "stream",
     "text": [
      "training model for 2015-07\n",
      "SVC(C=9, break_ties=False, cache_size=200, class_weight=None, coef0=0.0,\n",
      "    decision_function_shape='ovr', degree=3, gamma=0.09, kernel='rbf',\n",
      "    max_iter=-1, probability=True, random_state=None, shrinking=True, tol=0.001,\n",
      "    verbose=False)\n"
     ]
    },
    {
     "name": "stderr",
     "output_type": "stream",
     "text": [
      "/opt/anaconda3/lib/python3.7/site-packages/ipykernel_launcher.py:39: SettingWithCopyWarning: \n",
      "A value is trying to be set on a copy of a slice from a DataFrame.\n",
      "Try using .loc[row_indexer,col_indexer] = value instead\n",
      "\n",
      "See the caveats in the documentation: https://pandas.pydata.org/pandas-docs/stable/user_guide/indexing.html#returning-a-view-versus-a-copy\n"
     ]
    },
    {
     "name": "stdout",
     "output_type": "stream",
     "text": [
      "training model for 2015-08\n",
      "SVC(C=9, break_ties=False, cache_size=200, class_weight=None, coef0=0.0,\n",
      "    decision_function_shape='ovr', degree=3, gamma=0.09, kernel='rbf',\n",
      "    max_iter=-1, probability=True, random_state=None, shrinking=True, tol=0.001,\n",
      "    verbose=False)\n"
     ]
    },
    {
     "name": "stderr",
     "output_type": "stream",
     "text": [
      "/opt/anaconda3/lib/python3.7/site-packages/ipykernel_launcher.py:39: SettingWithCopyWarning: \n",
      "A value is trying to be set on a copy of a slice from a DataFrame.\n",
      "Try using .loc[row_indexer,col_indexer] = value instead\n",
      "\n",
      "See the caveats in the documentation: https://pandas.pydata.org/pandas-docs/stable/user_guide/indexing.html#returning-a-view-versus-a-copy\n"
     ]
    },
    {
     "name": "stdout",
     "output_type": "stream",
     "text": [
      "training model for 2015-09\n",
      "SVC(C=9, break_ties=False, cache_size=200, class_weight=None, coef0=0.0,\n",
      "    decision_function_shape='ovr', degree=3, gamma=0.09, kernel='rbf',\n",
      "    max_iter=-1, probability=True, random_state=None, shrinking=True, tol=0.001,\n",
      "    verbose=False)\n"
     ]
    },
    {
     "name": "stderr",
     "output_type": "stream",
     "text": [
      "/opt/anaconda3/lib/python3.7/site-packages/ipykernel_launcher.py:39: SettingWithCopyWarning: \n",
      "A value is trying to be set on a copy of a slice from a DataFrame.\n",
      "Try using .loc[row_indexer,col_indexer] = value instead\n",
      "\n",
      "See the caveats in the documentation: https://pandas.pydata.org/pandas-docs/stable/user_guide/indexing.html#returning-a-view-versus-a-copy\n"
     ]
    },
    {
     "name": "stdout",
     "output_type": "stream",
     "text": [
      "training model for 2015-10\n",
      "SVC(C=9, break_ties=False, cache_size=200, class_weight=None, coef0=0.0,\n",
      "    decision_function_shape='ovr', degree=3, gamma=0.09, kernel='rbf',\n",
      "    max_iter=-1, probability=True, random_state=None, shrinking=True, tol=0.001,\n",
      "    verbose=False)\n"
     ]
    },
    {
     "name": "stderr",
     "output_type": "stream",
     "text": [
      "/opt/anaconda3/lib/python3.7/site-packages/ipykernel_launcher.py:39: SettingWithCopyWarning: \n",
      "A value is trying to be set on a copy of a slice from a DataFrame.\n",
      "Try using .loc[row_indexer,col_indexer] = value instead\n",
      "\n",
      "See the caveats in the documentation: https://pandas.pydata.org/pandas-docs/stable/user_guide/indexing.html#returning-a-view-versus-a-copy\n"
     ]
    },
    {
     "name": "stdout",
     "output_type": "stream",
     "text": [
      "training model for 2015-11\n",
      "SVC(C=9, break_ties=False, cache_size=200, class_weight=None, coef0=0.0,\n",
      "    decision_function_shape='ovr', degree=3, gamma=0.09, kernel='rbf',\n",
      "    max_iter=-1, probability=True, random_state=None, shrinking=True, tol=0.001,\n",
      "    verbose=False)\n"
     ]
    },
    {
     "name": "stderr",
     "output_type": "stream",
     "text": [
      "/opt/anaconda3/lib/python3.7/site-packages/ipykernel_launcher.py:39: SettingWithCopyWarning: \n",
      "A value is trying to be set on a copy of a slice from a DataFrame.\n",
      "Try using .loc[row_indexer,col_indexer] = value instead\n",
      "\n",
      "See the caveats in the documentation: https://pandas.pydata.org/pandas-docs/stable/user_guide/indexing.html#returning-a-view-versus-a-copy\n"
     ]
    },
    {
     "name": "stdout",
     "output_type": "stream",
     "text": [
      "training model for 2015-12\n",
      "SVC(C=9, break_ties=False, cache_size=200, class_weight=None, coef0=0.0,\n",
      "    decision_function_shape='ovr', degree=3, gamma=0.09, kernel='rbf',\n",
      "    max_iter=-1, probability=True, random_state=None, shrinking=True, tol=0.001,\n",
      "    verbose=False)\n"
     ]
    },
    {
     "name": "stderr",
     "output_type": "stream",
     "text": [
      "/opt/anaconda3/lib/python3.7/site-packages/ipykernel_launcher.py:39: SettingWithCopyWarning: \n",
      "A value is trying to be set on a copy of a slice from a DataFrame.\n",
      "Try using .loc[row_indexer,col_indexer] = value instead\n",
      "\n",
      "See the caveats in the documentation: https://pandas.pydata.org/pandas-docs/stable/user_guide/indexing.html#returning-a-view-versus-a-copy\n"
     ]
    },
    {
     "name": "stdout",
     "output_type": "stream",
     "text": [
      "training model for 2016-01\n",
      "SVC(C=9, break_ties=False, cache_size=200, class_weight=None, coef0=0.0,\n",
      "    decision_function_shape='ovr', degree=3, gamma=0.09, kernel='rbf',\n",
      "    max_iter=-1, probability=True, random_state=None, shrinking=True, tol=0.001,\n",
      "    verbose=False)\n"
     ]
    },
    {
     "name": "stderr",
     "output_type": "stream",
     "text": [
      "/opt/anaconda3/lib/python3.7/site-packages/ipykernel_launcher.py:39: SettingWithCopyWarning: \n",
      "A value is trying to be set on a copy of a slice from a DataFrame.\n",
      "Try using .loc[row_indexer,col_indexer] = value instead\n",
      "\n",
      "See the caveats in the documentation: https://pandas.pydata.org/pandas-docs/stable/user_guide/indexing.html#returning-a-view-versus-a-copy\n"
     ]
    },
    {
     "name": "stdout",
     "output_type": "stream",
     "text": [
      "training model for 2016-02\n",
      "SVC(C=9, break_ties=False, cache_size=200, class_weight=None, coef0=0.0,\n",
      "    decision_function_shape='ovr', degree=3, gamma=0.09, kernel='rbf',\n",
      "    max_iter=-1, probability=True, random_state=None, shrinking=True, tol=0.001,\n",
      "    verbose=False)\n"
     ]
    },
    {
     "ename": "ValueError",
     "evalue": "Input contains NaN",
     "output_type": "error",
     "traceback": [
      "\u001b[0;31m---------------------------------------------------------------------------\u001b[0m",
      "\u001b[0;31mValueError\u001b[0m                                Traceback (most recent call last)",
      "\u001b[0;32m<ipython-input-10-ec4b3781e092>\u001b[0m in \u001b[0;36m<module>\u001b[0;34m\u001b[0m\n\u001b[1;32m     33\u001b[0m     \u001b[0;31m#clf_best=AdaBoostClassifier(n_estimators = 800 , learning_rate = 1.53 )\u001b[0m\u001b[0;34m\u001b[0m\u001b[0;34m\u001b[0m\u001b[0;34m\u001b[0m\u001b[0m\n\u001b[1;32m     34\u001b[0m     \u001b[0mprint\u001b[0m\u001b[0;34m(\u001b[0m\u001b[0mclf_best\u001b[0m\u001b[0;34m)\u001b[0m\u001b[0;34m\u001b[0m\u001b[0;34m\u001b[0m\u001b[0m\n\u001b[0;32m---> 35\u001b[0;31m     \u001b[0mclf_best\u001b[0m\u001b[0;34m.\u001b[0m\u001b[0mfit\u001b[0m\u001b[0;34m(\u001b[0m\u001b[0mtrain_feature\u001b[0m\u001b[0;34m,\u001b[0m\u001b[0mtrain_label\u001b[0m\u001b[0;34m)\u001b[0m\u001b[0;34m\u001b[0m\u001b[0;34m\u001b[0m\u001b[0m\n\u001b[0m\u001b[1;32m     36\u001b[0m     \u001b[0mpredict_prob\u001b[0m\u001b[0;34m=\u001b[0m\u001b[0mclf_best\u001b[0m\u001b[0;34m.\u001b[0m\u001b[0mpredict_proba\u001b[0m\u001b[0;34m(\u001b[0m\u001b[0mtest_feature\u001b[0m\u001b[0;34m)\u001b[0m\u001b[0;34m[\u001b[0m\u001b[0;34m:\u001b[0m\u001b[0;34m,\u001b[0m\u001b[0;36m1\u001b[0m\u001b[0;34m]\u001b[0m\u001b[0;34m\u001b[0m\u001b[0;34m\u001b[0m\u001b[0m\n\u001b[1;32m     37\u001b[0m     \u001b[0;31m#accuracy.append(clf_best.score(test_feature,test_label))\u001b[0m\u001b[0;34m\u001b[0m\u001b[0;34m\u001b[0m\u001b[0;34m\u001b[0m\u001b[0m\n",
      "\u001b[0;32m/opt/anaconda3/lib/python3.7/site-packages/sklearn/svm/_base.py\u001b[0m in \u001b[0;36mfit\u001b[0;34m(self, X, y, sample_weight)\u001b[0m\n\u001b[1;32m    146\u001b[0m         X, y = check_X_y(X, y, dtype=np.float64,\n\u001b[1;32m    147\u001b[0m                          \u001b[0morder\u001b[0m\u001b[0;34m=\u001b[0m\u001b[0;34m'C'\u001b[0m\u001b[0;34m,\u001b[0m \u001b[0maccept_sparse\u001b[0m\u001b[0;34m=\u001b[0m\u001b[0;34m'csr'\u001b[0m\u001b[0;34m,\u001b[0m\u001b[0;34m\u001b[0m\u001b[0;34m\u001b[0m\u001b[0m\n\u001b[0;32m--> 148\u001b[0;31m                          accept_large_sparse=False)\n\u001b[0m\u001b[1;32m    149\u001b[0m         \u001b[0my\u001b[0m \u001b[0;34m=\u001b[0m \u001b[0mself\u001b[0m\u001b[0;34m.\u001b[0m\u001b[0m_validate_targets\u001b[0m\u001b[0;34m(\u001b[0m\u001b[0my\u001b[0m\u001b[0;34m)\u001b[0m\u001b[0;34m\u001b[0m\u001b[0;34m\u001b[0m\u001b[0m\n\u001b[1;32m    150\u001b[0m \u001b[0;34m\u001b[0m\u001b[0m\n",
      "\u001b[0;32m/opt/anaconda3/lib/python3.7/site-packages/sklearn/utils/validation.py\u001b[0m in \u001b[0;36mcheck_X_y\u001b[0;34m(X, y, accept_sparse, accept_large_sparse, dtype, order, copy, force_all_finite, ensure_2d, allow_nd, multi_output, ensure_min_samples, ensure_min_features, y_numeric, warn_on_dtype, estimator)\u001b[0m\n\u001b[1;32m    759\u001b[0m     \u001b[0;32melse\u001b[0m\u001b[0;34m:\u001b[0m\u001b[0;34m\u001b[0m\u001b[0;34m\u001b[0m\u001b[0m\n\u001b[1;32m    760\u001b[0m         \u001b[0my\u001b[0m \u001b[0;34m=\u001b[0m \u001b[0mcolumn_or_1d\u001b[0m\u001b[0;34m(\u001b[0m\u001b[0my\u001b[0m\u001b[0;34m,\u001b[0m \u001b[0mwarn\u001b[0m\u001b[0;34m=\u001b[0m\u001b[0;32mTrue\u001b[0m\u001b[0;34m)\u001b[0m\u001b[0;34m\u001b[0m\u001b[0;34m\u001b[0m\u001b[0m\n\u001b[0;32m--> 761\u001b[0;31m         \u001b[0m_assert_all_finite\u001b[0m\u001b[0;34m(\u001b[0m\u001b[0my\u001b[0m\u001b[0;34m)\u001b[0m\u001b[0;34m\u001b[0m\u001b[0;34m\u001b[0m\u001b[0m\n\u001b[0m\u001b[1;32m    762\u001b[0m     \u001b[0;32mif\u001b[0m \u001b[0my_numeric\u001b[0m \u001b[0;32mand\u001b[0m \u001b[0my\u001b[0m\u001b[0;34m.\u001b[0m\u001b[0mdtype\u001b[0m\u001b[0;34m.\u001b[0m\u001b[0mkind\u001b[0m \u001b[0;34m==\u001b[0m \u001b[0;34m'O'\u001b[0m\u001b[0;34m:\u001b[0m\u001b[0;34m\u001b[0m\u001b[0;34m\u001b[0m\u001b[0m\n\u001b[1;32m    763\u001b[0m         \u001b[0my\u001b[0m \u001b[0;34m=\u001b[0m \u001b[0my\u001b[0m\u001b[0;34m.\u001b[0m\u001b[0mastype\u001b[0m\u001b[0;34m(\u001b[0m\u001b[0mnp\u001b[0m\u001b[0;34m.\u001b[0m\u001b[0mfloat64\u001b[0m\u001b[0;34m)\u001b[0m\u001b[0;34m\u001b[0m\u001b[0;34m\u001b[0m\u001b[0m\n",
      "\u001b[0;32m/opt/anaconda3/lib/python3.7/site-packages/sklearn/utils/validation.py\u001b[0m in \u001b[0;36m_assert_all_finite\u001b[0;34m(X, allow_nan, msg_dtype)\u001b[0m\n\u001b[1;32m     63\u001b[0m     \u001b[0;32melif\u001b[0m \u001b[0mX\u001b[0m\u001b[0;34m.\u001b[0m\u001b[0mdtype\u001b[0m \u001b[0;34m==\u001b[0m \u001b[0mnp\u001b[0m\u001b[0;34m.\u001b[0m\u001b[0mdtype\u001b[0m\u001b[0;34m(\u001b[0m\u001b[0;34m'object'\u001b[0m\u001b[0;34m)\u001b[0m \u001b[0;32mand\u001b[0m \u001b[0;32mnot\u001b[0m \u001b[0mallow_nan\u001b[0m\u001b[0;34m:\u001b[0m\u001b[0;34m\u001b[0m\u001b[0;34m\u001b[0m\u001b[0m\n\u001b[1;32m     64\u001b[0m         \u001b[0;32mif\u001b[0m \u001b[0m_object_dtype_isnan\u001b[0m\u001b[0;34m(\u001b[0m\u001b[0mX\u001b[0m\u001b[0;34m)\u001b[0m\u001b[0;34m.\u001b[0m\u001b[0many\u001b[0m\u001b[0;34m(\u001b[0m\u001b[0;34m)\u001b[0m\u001b[0;34m:\u001b[0m\u001b[0;34m\u001b[0m\u001b[0;34m\u001b[0m\u001b[0m\n\u001b[0;32m---> 65\u001b[0;31m             \u001b[0;32mraise\u001b[0m \u001b[0mValueError\u001b[0m\u001b[0;34m(\u001b[0m\u001b[0;34m\"Input contains NaN\"\u001b[0m\u001b[0;34m)\u001b[0m\u001b[0;34m\u001b[0m\u001b[0;34m\u001b[0m\u001b[0m\n\u001b[0m\u001b[1;32m     66\u001b[0m \u001b[0;34m\u001b[0m\u001b[0m\n\u001b[1;32m     67\u001b[0m \u001b[0;34m\u001b[0m\u001b[0m\n",
      "\u001b[0;31mValueError\u001b[0m: Input contains NaN"
     ]
    }
   ],
   "source": [
    "#def pipeline():\n",
    "df=data0\n",
    "LR_model_list = []\n",
    "accuracy=[]\n",
    "classification=[]\n",
    "final=pd.DataFrame()\n",
    "\n",
    "for date in df['y_m'].drop_duplicates()[12:]:\n",
    "    \n",
    "\n",
    "    print('training model for %s' % date)\n",
    "    train_df,test_df = get_train_val_test_data(date)\n",
    "    train_feature, train_label,df_train = format_feature_label(train_df)       \n",
    "    test_feature, test_label,df_test = format_feature_label(test_df)\n",
    "    params1 = {'C':range(1,10,2),'gamma':[x /100. for x in range(1,10,2)],'kernel':['linear','poly','rbf','sigmoid']}\n",
    "    clf_svm = svm.SVC(probability=True)\n",
    "    clf_AdaBoost = AdaBoostClassifier(n_estimators = 350 , learning_rate = 1.53 ) \n",
    "    \n",
    "    lr=LogisticRegression()           \n",
    "    params={'C':np.arange(0.01,0.1,0.01)}\n",
    "    #clf=GridSearchCV(lr,param_grid=params,)\n",
    "    ada=AdaBoostClassifier( ) \n",
    "    params3={'n_estimators':[200,400,600,800,1000],'learning_rate':[0.5,1,1.5]}\n",
    "    #clf=GridSearchCV(ada,param_grid=params3)\n",
    "    \n",
    "   # clf= GridSearchCV(clf_svm, params1)\n",
    "    #clf.fit(train_feature,train_label)\n",
    "    \n",
    "    \n",
    "    #clf_best=clf.best_estimator_\n",
    "    clf_best=svm.SVC(C=9,gamma=0.09,kernel='rbf',probability=True)\n",
    "    \n",
    "    #clf_best=AdaBoostClassifier(n_estimators = 800 , learning_rate = 1.53 ) \n",
    "    print(clf_best)\n",
    "    clf_best.fit(train_feature,train_label)\n",
    "    predict_prob=clf_best.predict_proba(test_feature)[:,1] \n",
    "    #accuracy.append(clf_best.score(test_feature,test_label))\n",
    "    LR_model_list.append(clf_best)\n",
    "    df_test['factor'] = predict_prob\n",
    "    df_test = df_test[['stock', 'tradeDate', 'rets', 'factor']]\n",
    "    \n",
    "    final=pd.concat([final,df_test])\n",
    "    #return LR_model_list,final,accuracy\n",
    "print('accuracy=%f'% (pd.Series(accuracy).mean()))\n",
    "plt.plot(accuracy,label='accuracy')\n",
    "final.to_csv('svm333_final.csv')"
   ]
  },
  {
   "cell_type": "code",
   "execution_count": null,
   "metadata": {},
   "outputs": [],
   "source": [
    "df[['stock', 'tradeDate', 'rets']]"
   ]
  },
  {
   "cell_type": "code",
   "execution_count": null,
   "metadata": {},
   "outputs": [],
   "source": [
    "LR_model_list"
   ]
  },
  {
   "cell_type": "code",
   "execution_count": null,
   "metadata": {},
   "outputs": [],
   "source": []
  }
 ],
 "metadata": {
  "kernelspec": {
   "display_name": "Python 3",
   "language": "python",
   "name": "python3"
  },
  "language_info": {
   "codemirror_mode": {
    "name": "ipython",
    "version": 3
   },
   "file_extension": ".py",
   "mimetype": "text/x-python",
   "name": "python",
   "nbconvert_exporter": "python",
   "pygments_lexer": "ipython3",
   "version": "3.7.6"
  }
 },
 "nbformat": 4,
 "nbformat_minor": 4
}
